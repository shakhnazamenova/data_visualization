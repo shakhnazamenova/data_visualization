{
 "cells": [
  {
   "cell_type": "markdown",
   "id": "de68a56e",
   "metadata": {},
   "source": [
    "#### 1. Общая информация\n",
    "\n",
    "Мобильная игра зарабатывает на показе рекламы. Есть несколько форматов: int – полноэкранная реклама; banner – горизонтальный баннер, висит внизу экрана пока юзер играет; rv – видео, которое юзер смотрит по желанию и за просмотр получает монетки или др. ресурсы. Информация о каждом показе отправляется в аналитику и содержит доход от показа, формат показанной рекламы, рекламную сеть от которой был показ и др.\n",
    "eCPM – доход за 1000 показов рекламы."
   ]
  },
  {
   "cell_type": "markdown",
   "id": "38b80563",
   "metadata": {},
   "source": [
    "#### 2. Бизнес задача\n",
    "\n",
    "Провести исследование показов рекламы с целью понять на сколько отличается eCPM в зависимости от географии (города) юзера, версии ОС и других параметров. Интересны любые инсайты и находки по eCPM-ам.\n",
    "Этот csv файл содержит информацию о показах рекламы для юзеров США:\n",
    "https://drive.google.com/drive/folders/1bjWlzyXV8ALcoxZYrdNQH6_MOm3nS3Pl?us p=sharing\n",
    "3. Что требуется\n",
    "1. Для каждого формата рекламы:\n",
    "\n",
    "a. построить распределение средних eCPM-ов юзеров\n",
    "\n",
    "b. отобразить средние eCPM-ы по городам, версиям ОС\n",
    "\n",
    "c. отобразить суммарные доходы по городам, версиям ОС\n",
    "\n",
    "2. Учесть статистическую значимость для п.1b (отобразить, отфильтровать незначимое или хотя бы прокомментировать). Объяснить решение.\n",
    "3. Описать наблюдения и вывод по исследованию.\n"
   ]
  },
  {
   "cell_type": "code",
   "execution_count": 66,
   "id": "407ee10a",
   "metadata": {
    "ExecuteTime": {
     "end_time": "2022-06-19T16:18:55.023142Z",
     "start_time": "2022-06-19T16:18:41.933748Z"
    }
   },
   "outputs": [],
   "source": [
    "import pandas as pd\n",
    "import numpy as np\n",
    "import seaborn as sns\n",
    "import matplotlib.pyplot as plt\n",
    "%matplotlib inline"
   ]
  },
  {
   "cell_type": "markdown",
   "id": "b20508b0",
   "metadata": {},
   "source": [
    "Столбец profile_id – id юзера\n",
    "\n",
    "Столбец event_json содержит данные о событии показа рекламы:\n",
    "\n",
    "ad_type – формат рекламы (int, banner или rv)\n",
    "\n",
    "placement – когда/где был показ рекламы в игре\n",
    "\n",
    "view_index – номер показа конкретного формата рекламы для юзера (не поддерживается для баннеров)\n",
    "\n",
    "revenue – доход от конкретного показа рекламы (eCPM = revenue * 1000) \n",
    "\n",
    "ads_ltv – накапливающийся доход от рекламы, равен сумме всех revenue юзера\n",
    "\n",
    "network_name – рекламная сеть, от которой был показ\n",
    "\n",
    "Остальные столбцы должны быть интуитивно понятны\n"
   ]
  },
  {
   "cell_type": "code",
   "execution_count": 38,
   "id": "73ef29c7",
   "metadata": {
    "ExecuteTime": {
     "end_time": "2022-06-19T15:50:25.578316Z",
     "start_time": "2022-06-19T15:50:16.450298Z"
    }
   },
   "outputs": [
    {
     "data": {
      "text/html": [
       "<div>\n",
       "<style scoped>\n",
       "    .dataframe tbody tr th:only-of-type {\n",
       "        vertical-align: middle;\n",
       "    }\n",
       "\n",
       "    .dataframe tbody tr th {\n",
       "        vertical-align: top;\n",
       "    }\n",
       "\n",
       "    .dataframe thead th {\n",
       "        text-align: right;\n",
       "    }\n",
       "</style>\n",
       "<table border=\"1\" class=\"dataframe\">\n",
       "  <thead>\n",
       "    <tr style=\"text-align: right;\">\n",
       "      <th></th>\n",
       "      <th>profile_id</th>\n",
       "      <th>os_version</th>\n",
       "      <th>device_manufacturer</th>\n",
       "      <th>device_model</th>\n",
       "      <th>device_type</th>\n",
       "      <th>device_locale</th>\n",
       "      <th>event_name</th>\n",
       "      <th>event_json</th>\n",
       "      <th>event_datetime</th>\n",
       "      <th>event_timestamp</th>\n",
       "      <th>event_receive_datetime</th>\n",
       "      <th>event_receive_timestamp</th>\n",
       "      <th>connection_type</th>\n",
       "      <th>operator_name</th>\n",
       "      <th>country_iso_code</th>\n",
       "      <th>city</th>\n",
       "    </tr>\n",
       "  </thead>\n",
       "  <tbody>\n",
       "    <tr>\n",
       "      <th>0</th>\n",
       "      <td>JLjpGzDHBQm</td>\n",
       "      <td>11</td>\n",
       "      <td>Samsung</td>\n",
       "      <td>Galaxy Tab S6</td>\n",
       "      <td>tablet</td>\n",
       "      <td>en_US</td>\n",
       "      <td>c_ad_revenue</td>\n",
       "      <td>{\"ad_type\":\"banner\",\"placement\":\"\",\"view_index...</td>\n",
       "      <td>2022-02-04 20:02:28</td>\n",
       "      <td>1643994148</td>\n",
       "      <td>2022-02-06 17:58:19</td>\n",
       "      <td>1644159499</td>\n",
       "      <td>wifi</td>\n",
       "      <td>NaN</td>\n",
       "      <td>US</td>\n",
       "      <td>Norwalk</td>\n",
       "    </tr>\n",
       "    <tr>\n",
       "      <th>1</th>\n",
       "      <td>JLjpGzDHBQm</td>\n",
       "      <td>11</td>\n",
       "      <td>Samsung</td>\n",
       "      <td>Galaxy Tab S6</td>\n",
       "      <td>tablet</td>\n",
       "      <td>en_US</td>\n",
       "      <td>c_ad_revenue</td>\n",
       "      <td>{\"ad_type\":\"banner\",\"placement\":\"\",\"view_index...</td>\n",
       "      <td>2022-02-04 20:02:45</td>\n",
       "      <td>1643994165</td>\n",
       "      <td>2022-02-06 17:58:19</td>\n",
       "      <td>1644159499</td>\n",
       "      <td>wifi</td>\n",
       "      <td>NaN</td>\n",
       "      <td>US</td>\n",
       "      <td>Norwalk</td>\n",
       "    </tr>\n",
       "    <tr>\n",
       "      <th>2</th>\n",
       "      <td>JLkVacrzHY6</td>\n",
       "      <td>11</td>\n",
       "      <td>Google</td>\n",
       "      <td>Pixel 2</td>\n",
       "      <td>phone</td>\n",
       "      <td>en_US</td>\n",
       "      <td>c_ad_revenue</td>\n",
       "      <td>{\"ad_type\":\"banner\",\"placement\":\"\",\"view_index...</td>\n",
       "      <td>2022-02-05 17:53:05</td>\n",
       "      <td>1644072785</td>\n",
       "      <td>2022-02-06 16:59:29</td>\n",
       "      <td>1644155969</td>\n",
       "      <td>wifi</td>\n",
       "      <td>Verizon</td>\n",
       "      <td>US</td>\n",
       "      <td>Charlotte</td>\n",
       "    </tr>\n",
       "    <tr>\n",
       "      <th>3</th>\n",
       "      <td>JMC6wG3cX0f</td>\n",
       "      <td>10</td>\n",
       "      <td>Samsung</td>\n",
       "      <td>Galaxy S9</td>\n",
       "      <td>phone</td>\n",
       "      <td>en_US</td>\n",
       "      <td>c_ad_revenue</td>\n",
       "      <td>{\"ad_type\":\"int\",\"placement\":\"next_level\",\"vie...</td>\n",
       "      <td>2022-02-06 17:09:01</td>\n",
       "      <td>1644156541</td>\n",
       "      <td>2022-02-06 17:09:24</td>\n",
       "      <td>1644156564</td>\n",
       "      <td>wifi</td>\n",
       "      <td>T-Mobile</td>\n",
       "      <td>US</td>\n",
       "      <td>Cocoa</td>\n",
       "    </tr>\n",
       "    <tr>\n",
       "      <th>4</th>\n",
       "      <td>JLzWWTJfi1b</td>\n",
       "      <td>10</td>\n",
       "      <td>Samsung</td>\n",
       "      <td>Galaxy S9</td>\n",
       "      <td>phone</td>\n",
       "      <td>en_US</td>\n",
       "      <td>c_ad_revenue</td>\n",
       "      <td>{\"ad_type\":\"banner\",\"placement\":\"\",\"view_index...</td>\n",
       "      <td>2022-02-06 17:15:38</td>\n",
       "      <td>1644156938</td>\n",
       "      <td>2022-02-06 17:16:16</td>\n",
       "      <td>1644156976</td>\n",
       "      <td>cell</td>\n",
       "      <td>Verizon</td>\n",
       "      <td>US</td>\n",
       "      <td>NaN</td>\n",
       "    </tr>\n",
       "  </tbody>\n",
       "</table>\n",
       "</div>"
      ],
      "text/plain": [
       "    profile_id os_version device_manufacturer   device_model device_type  \\\n",
       "0  JLjpGzDHBQm         11             Samsung  Galaxy Tab S6      tablet   \n",
       "1  JLjpGzDHBQm         11             Samsung  Galaxy Tab S6      tablet   \n",
       "2  JLkVacrzHY6         11              Google        Pixel 2       phone   \n",
       "3  JMC6wG3cX0f         10             Samsung      Galaxy S9       phone   \n",
       "4  JLzWWTJfi1b         10             Samsung      Galaxy S9       phone   \n",
       "\n",
       "  device_locale    event_name  \\\n",
       "0         en_US  c_ad_revenue   \n",
       "1         en_US  c_ad_revenue   \n",
       "2         en_US  c_ad_revenue   \n",
       "3         en_US  c_ad_revenue   \n",
       "4         en_US  c_ad_revenue   \n",
       "\n",
       "                                          event_json       event_datetime  \\\n",
       "0  {\"ad_type\":\"banner\",\"placement\":\"\",\"view_index...  2022-02-04 20:02:28   \n",
       "1  {\"ad_type\":\"banner\",\"placement\":\"\",\"view_index...  2022-02-04 20:02:45   \n",
       "2  {\"ad_type\":\"banner\",\"placement\":\"\",\"view_index...  2022-02-05 17:53:05   \n",
       "3  {\"ad_type\":\"int\",\"placement\":\"next_level\",\"vie...  2022-02-06 17:09:01   \n",
       "4  {\"ad_type\":\"banner\",\"placement\":\"\",\"view_index...  2022-02-06 17:15:38   \n",
       "\n",
       "   event_timestamp event_receive_datetime  event_receive_timestamp  \\\n",
       "0       1643994148    2022-02-06 17:58:19               1644159499   \n",
       "1       1643994165    2022-02-06 17:58:19               1644159499   \n",
       "2       1644072785    2022-02-06 16:59:29               1644155969   \n",
       "3       1644156541    2022-02-06 17:09:24               1644156564   \n",
       "4       1644156938    2022-02-06 17:16:16               1644156976   \n",
       "\n",
       "  connection_type operator_name country_iso_code       city  \n",
       "0            wifi           NaN               US    Norwalk  \n",
       "1            wifi           NaN               US    Norwalk  \n",
       "2            wifi       Verizon               US  Charlotte  \n",
       "3            wifi      T-Mobile               US      Cocoa  \n",
       "4            cell      Verizon                US        NaN  "
      ]
     },
     "execution_count": 38,
     "metadata": {},
     "output_type": "execute_result"
    }
   ],
   "source": [
    "data = pd.read_csv('us_events.csv')\n",
    "data[:5]"
   ]
  },
  {
   "cell_type": "code",
   "execution_count": 39,
   "id": "141ef24a",
   "metadata": {
    "ExecuteTime": {
     "end_time": "2022-06-19T15:50:48.987081Z",
     "start_time": "2022-06-19T15:50:48.234264Z"
    }
   },
   "outputs": [
    {
     "name": "stdout",
     "output_type": "stream",
     "text": [
      "<class 'pandas.core.frame.DataFrame'>\n",
      "RangeIndex: 860079 entries, 0 to 860078\n",
      "Data columns (total 16 columns):\n",
      " #   Column                   Non-Null Count   Dtype \n",
      "---  ------                   --------------   ----- \n",
      " 0   profile_id               860065 non-null  object\n",
      " 1   os_version               860079 non-null  object\n",
      " 2   device_manufacturer      860079 non-null  object\n",
      " 3   device_model             860079 non-null  object\n",
      " 4   device_type              860079 non-null  object\n",
      " 5   device_locale            860079 non-null  object\n",
      " 6   event_name               860079 non-null  object\n",
      " 7   event_json               860079 non-null  object\n",
      " 8   event_datetime           860079 non-null  object\n",
      " 9   event_timestamp          860079 non-null  int64 \n",
      " 10  event_receive_datetime   860079 non-null  object\n",
      " 11  event_receive_timestamp  860079 non-null  int64 \n",
      " 12  connection_type          860079 non-null  object\n",
      " 13  operator_name            841200 non-null  object\n",
      " 14  country_iso_code         860079 non-null  object\n",
      " 15  city                     536371 non-null  object\n",
      "dtypes: int64(2), object(14)\n",
      "memory usage: 105.0+ MB\n"
     ]
    }
   ],
   "source": [
    "data.info()"
   ]
  },
  {
   "cell_type": "code",
   "execution_count": 10,
   "id": "443df644",
   "metadata": {
    "ExecuteTime": {
     "end_time": "2022-06-19T15:31:12.194424Z",
     "start_time": "2022-06-19T15:31:12.178750Z"
    }
   },
   "outputs": [
    {
     "data": {
      "text/plain": [
       "Index(['profile_id', 'os_version', 'device_manufacturer', 'device_model',\n",
       "       'device_type', 'device_locale', 'event_name', 'event_json',\n",
       "       'event_datetime', 'event_timestamp', 'event_receive_datetime',\n",
       "       'event_receive_timestamp', 'connection_type', 'operator_name',\n",
       "       'country_iso_code', 'city'],\n",
       "      dtype='object')"
      ]
     },
     "execution_count": 10,
     "metadata": {},
     "output_type": "execute_result"
    }
   ],
   "source": [
    "data.columns"
   ]
  },
  {
   "cell_type": "code",
   "execution_count": 26,
   "id": "627524bc",
   "metadata": {
    "ExecuteTime": {
     "end_time": "2022-06-19T15:42:20.944322Z",
     "start_time": "2022-06-19T15:42:00.127350Z"
    }
   },
   "outputs": [],
   "source": [
    "events = data['event_json'].apply(json.loads)\n",
    "event_data = pd.DataFrame(events.tolist())"
   ]
  },
  {
   "cell_type": "code",
   "execution_count": 37,
   "id": "32fad194",
   "metadata": {
    "ExecuteTime": {
     "end_time": "2022-06-19T15:49:54.077035Z",
     "start_time": "2022-06-19T15:49:53.856073Z"
    }
   },
   "outputs": [
    {
     "data": {
      "text/html": [
       "<div>\n",
       "<style scoped>\n",
       "    .dataframe tbody tr th:only-of-type {\n",
       "        vertical-align: middle;\n",
       "    }\n",
       "\n",
       "    .dataframe tbody tr th {\n",
       "        vertical-align: top;\n",
       "    }\n",
       "\n",
       "    .dataframe thead th {\n",
       "        text-align: right;\n",
       "    }\n",
       "</style>\n",
       "<table border=\"1\" class=\"dataframe\">\n",
       "  <thead>\n",
       "    <tr style=\"text-align: right;\">\n",
       "      <th></th>\n",
       "      <th>ad_type</th>\n",
       "      <th>placement</th>\n",
       "      <th>session_length</th>\n",
       "      <th>revenue</th>\n",
       "      <th>ads_ltv</th>\n",
       "      <th>ecpm_sma</th>\n",
       "      <th>normalized_ecpm_sma</th>\n",
       "      <th>value</th>\n",
       "      <th>ad_country_code</th>\n",
       "      <th>network_name</th>\n",
       "    </tr>\n",
       "  </thead>\n",
       "  <tbody>\n",
       "    <tr>\n",
       "      <th>0</th>\n",
       "      <td>banner</td>\n",
       "      <td></td>\n",
       "      <td>705.88070</td>\n",
       "      <td>0.000510</td>\n",
       "      <td>0.487877</td>\n",
       "      <td>0.511508</td>\n",
       "      <td>0.511508</td>\n",
       "      <td>0.000510</td>\n",
       "      <td>US</td>\n",
       "      <td>Google AdMob</td>\n",
       "    </tr>\n",
       "    <tr>\n",
       "      <th>1</th>\n",
       "      <td>banner</td>\n",
       "      <td></td>\n",
       "      <td>722.65120</td>\n",
       "      <td>0.000510</td>\n",
       "      <td>0.488387</td>\n",
       "      <td>0.511389</td>\n",
       "      <td>0.511389</td>\n",
       "      <td>0.000510</td>\n",
       "      <td>US</td>\n",
       "      <td>Google AdMob</td>\n",
       "    </tr>\n",
       "    <tr>\n",
       "      <th>2</th>\n",
       "      <td>banner</td>\n",
       "      <td></td>\n",
       "      <td>431.81290</td>\n",
       "      <td>0.002386</td>\n",
       "      <td>0.678479</td>\n",
       "      <td>0.928597</td>\n",
       "      <td>0.928597</td>\n",
       "      <td>0.002386</td>\n",
       "      <td>US</td>\n",
       "      <td>APPLOVIN_EXCHANGE</td>\n",
       "    </tr>\n",
       "    <tr>\n",
       "      <th>3</th>\n",
       "      <td>int</td>\n",
       "      <td>next_level</td>\n",
       "      <td>125.94960</td>\n",
       "      <td>0.013894</td>\n",
       "      <td>0.013894</td>\n",
       "      <td>13.782633</td>\n",
       "      <td>13.893784</td>\n",
       "      <td>0.013894</td>\n",
       "      <td>US</td>\n",
       "      <td>AppLovin</td>\n",
       "    </tr>\n",
       "    <tr>\n",
       "      <th>4</th>\n",
       "      <td>banner</td>\n",
       "      <td></td>\n",
       "      <td>12.71129</td>\n",
       "      <td>0.006828</td>\n",
       "      <td>0.060571</td>\n",
       "      <td>1.660282</td>\n",
       "      <td>1.660282</td>\n",
       "      <td>0.006828</td>\n",
       "      <td>US</td>\n",
       "      <td>Google AdMob</td>\n",
       "    </tr>\n",
       "  </tbody>\n",
       "</table>\n",
       "</div>"
      ],
      "text/plain": [
       "  ad_type   placement  session_length   revenue   ads_ltv   ecpm_sma  \\\n",
       "0  banner                   705.88070  0.000510  0.487877   0.511508   \n",
       "1  banner                   722.65120  0.000510  0.488387   0.511389   \n",
       "2  banner                   431.81290  0.002386  0.678479   0.928597   \n",
       "3     int  next_level       125.94960  0.013894  0.013894  13.782633   \n",
       "4  banner                    12.71129  0.006828  0.060571   1.660282   \n",
       "\n",
       "   normalized_ecpm_sma     value ad_country_code       network_name  \n",
       "0             0.511508  0.000510              US       Google AdMob  \n",
       "1             0.511389  0.000510              US       Google AdMob  \n",
       "2             0.928597  0.002386              US  APPLOVIN_EXCHANGE  \n",
       "3            13.893784  0.013894              US           AppLovin  \n",
       "4             1.660282  0.006828              US       Google AdMob  "
      ]
     },
     "execution_count": 37,
     "metadata": {},
     "output_type": "execute_result"
    }
   ],
   "source": [
    "event_data.drop(columns=['view_index', 'session_view_index',\\\n",
    "                         'cur_ticks','currency','ad_unit_id',\n",
    "                        'creativeId', 'ad_network_placement'], axis=1, inplace=True)\n",
    "event_data[:5]"
   ]
  },
  {
   "cell_type": "code",
   "execution_count": 42,
   "id": "784fc463",
   "metadata": {
    "ExecuteTime": {
     "end_time": "2022-06-19T15:58:48.413441Z",
     "start_time": "2022-06-19T15:58:46.116619Z"
    }
   },
   "outputs": [],
   "source": [
    "df1 = data[['profile_id', 'event_datetime', 'city', 'os_version']]\n",
    "final_data=df1.join(event_data, lsuffix=\"_left\", rsuffix=\"_right\")"
   ]
  },
  {
   "cell_type": "code",
   "execution_count": 44,
   "id": "00df692a",
   "metadata": {
    "ExecuteTime": {
     "end_time": "2022-06-19T15:59:05.479332Z",
     "start_time": "2022-06-19T15:59:05.448694Z"
    }
   },
   "outputs": [
    {
     "data": {
      "text/html": [
       "<div>\n",
       "<style scoped>\n",
       "    .dataframe tbody tr th:only-of-type {\n",
       "        vertical-align: middle;\n",
       "    }\n",
       "\n",
       "    .dataframe tbody tr th {\n",
       "        vertical-align: top;\n",
       "    }\n",
       "\n",
       "    .dataframe thead th {\n",
       "        text-align: right;\n",
       "    }\n",
       "</style>\n",
       "<table border=\"1\" class=\"dataframe\">\n",
       "  <thead>\n",
       "    <tr style=\"text-align: right;\">\n",
       "      <th></th>\n",
       "      <th>profile_id</th>\n",
       "      <th>event_datetime</th>\n",
       "      <th>city</th>\n",
       "      <th>os_version</th>\n",
       "      <th>ad_type</th>\n",
       "      <th>placement</th>\n",
       "      <th>session_length</th>\n",
       "      <th>revenue</th>\n",
       "      <th>ads_ltv</th>\n",
       "      <th>ecpm_sma</th>\n",
       "      <th>normalized_ecpm_sma</th>\n",
       "      <th>value</th>\n",
       "      <th>ad_country_code</th>\n",
       "      <th>network_name</th>\n",
       "    </tr>\n",
       "  </thead>\n",
       "  <tbody>\n",
       "    <tr>\n",
       "      <th>0</th>\n",
       "      <td>JLjpGzDHBQm</td>\n",
       "      <td>2022-02-04 20:02:28</td>\n",
       "      <td>Norwalk</td>\n",
       "      <td>11</td>\n",
       "      <td>banner</td>\n",
       "      <td></td>\n",
       "      <td>705.88070</td>\n",
       "      <td>0.000510</td>\n",
       "      <td>0.487877</td>\n",
       "      <td>0.511508</td>\n",
       "      <td>0.511508</td>\n",
       "      <td>0.000510</td>\n",
       "      <td>US</td>\n",
       "      <td>Google AdMob</td>\n",
       "    </tr>\n",
       "    <tr>\n",
       "      <th>1</th>\n",
       "      <td>JLjpGzDHBQm</td>\n",
       "      <td>2022-02-04 20:02:45</td>\n",
       "      <td>Norwalk</td>\n",
       "      <td>11</td>\n",
       "      <td>banner</td>\n",
       "      <td></td>\n",
       "      <td>722.65120</td>\n",
       "      <td>0.000510</td>\n",
       "      <td>0.488387</td>\n",
       "      <td>0.511389</td>\n",
       "      <td>0.511389</td>\n",
       "      <td>0.000510</td>\n",
       "      <td>US</td>\n",
       "      <td>Google AdMob</td>\n",
       "    </tr>\n",
       "    <tr>\n",
       "      <th>2</th>\n",
       "      <td>JLkVacrzHY6</td>\n",
       "      <td>2022-02-05 17:53:05</td>\n",
       "      <td>Charlotte</td>\n",
       "      <td>11</td>\n",
       "      <td>banner</td>\n",
       "      <td></td>\n",
       "      <td>431.81290</td>\n",
       "      <td>0.002386</td>\n",
       "      <td>0.678479</td>\n",
       "      <td>0.928597</td>\n",
       "      <td>0.928597</td>\n",
       "      <td>0.002386</td>\n",
       "      <td>US</td>\n",
       "      <td>APPLOVIN_EXCHANGE</td>\n",
       "    </tr>\n",
       "    <tr>\n",
       "      <th>3</th>\n",
       "      <td>JMC6wG3cX0f</td>\n",
       "      <td>2022-02-06 17:09:01</td>\n",
       "      <td>Cocoa</td>\n",
       "      <td>10</td>\n",
       "      <td>int</td>\n",
       "      <td>next_level</td>\n",
       "      <td>125.94960</td>\n",
       "      <td>0.013894</td>\n",
       "      <td>0.013894</td>\n",
       "      <td>13.782633</td>\n",
       "      <td>13.893784</td>\n",
       "      <td>0.013894</td>\n",
       "      <td>US</td>\n",
       "      <td>AppLovin</td>\n",
       "    </tr>\n",
       "    <tr>\n",
       "      <th>4</th>\n",
       "      <td>JLzWWTJfi1b</td>\n",
       "      <td>2022-02-06 17:15:38</td>\n",
       "      <td>NaN</td>\n",
       "      <td>10</td>\n",
       "      <td>banner</td>\n",
       "      <td></td>\n",
       "      <td>12.71129</td>\n",
       "      <td>0.006828</td>\n",
       "      <td>0.060571</td>\n",
       "      <td>1.660282</td>\n",
       "      <td>1.660282</td>\n",
       "      <td>0.006828</td>\n",
       "      <td>US</td>\n",
       "      <td>Google AdMob</td>\n",
       "    </tr>\n",
       "    <tr>\n",
       "      <th>5</th>\n",
       "      <td>JLzWWTJfi1b</td>\n",
       "      <td>2022-02-06 17:15:53</td>\n",
       "      <td>NaN</td>\n",
       "      <td>10</td>\n",
       "      <td>banner</td>\n",
       "      <td></td>\n",
       "      <td>27.75300</td>\n",
       "      <td>0.000494</td>\n",
       "      <td>0.061065</td>\n",
       "      <td>1.543673</td>\n",
       "      <td>1.543673</td>\n",
       "      <td>0.000494</td>\n",
       "      <td>US</td>\n",
       "      <td>Google AdMob</td>\n",
       "    </tr>\n",
       "    <tr>\n",
       "      <th>6</th>\n",
       "      <td>JLzWWTJfi1b</td>\n",
       "      <td>2022-02-06 17:16:03</td>\n",
       "      <td>NaN</td>\n",
       "      <td>10</td>\n",
       "      <td>banner</td>\n",
       "      <td></td>\n",
       "      <td>37.62716</td>\n",
       "      <td>0.002386</td>\n",
       "      <td>0.063451</td>\n",
       "      <td>1.627922</td>\n",
       "      <td>1.627922</td>\n",
       "      <td>0.002386</td>\n",
       "      <td>US</td>\n",
       "      <td>APPLOVIN_EXCHANGE</td>\n",
       "    </tr>\n",
       "    <tr>\n",
       "      <th>7</th>\n",
       "      <td>JLzWWTJfi1b</td>\n",
       "      <td>2022-02-06 17:16:23</td>\n",
       "      <td>NaN</td>\n",
       "      <td>10</td>\n",
       "      <td>banner</td>\n",
       "      <td></td>\n",
       "      <td>57.81027</td>\n",
       "      <td>0.000494</td>\n",
       "      <td>0.063945</td>\n",
       "      <td>1.514549</td>\n",
       "      <td>1.514549</td>\n",
       "      <td>0.000494</td>\n",
       "      <td>US</td>\n",
       "      <td>Google AdMob</td>\n",
       "    </tr>\n",
       "    <tr>\n",
       "      <th>8</th>\n",
       "      <td>JLzWWTJfi1b</td>\n",
       "      <td>2022-02-06 17:16:33</td>\n",
       "      <td>NaN</td>\n",
       "      <td>10</td>\n",
       "      <td>banner</td>\n",
       "      <td></td>\n",
       "      <td>67.62502</td>\n",
       "      <td>0.002386</td>\n",
       "      <td>0.066332</td>\n",
       "      <td>1.601711</td>\n",
       "      <td>1.601711</td>\n",
       "      <td>0.002386</td>\n",
       "      <td>US</td>\n",
       "      <td>APPLOVIN_EXCHANGE</td>\n",
       "    </tr>\n",
       "    <tr>\n",
       "      <th>9</th>\n",
       "      <td>JLzWWTJfi1b</td>\n",
       "      <td>2022-02-06 17:16:53</td>\n",
       "      <td>NaN</td>\n",
       "      <td>10</td>\n",
       "      <td>banner</td>\n",
       "      <td></td>\n",
       "      <td>87.80360</td>\n",
       "      <td>0.000494</td>\n",
       "      <td>0.066826</td>\n",
       "      <td>1.490959</td>\n",
       "      <td>1.490959</td>\n",
       "      <td>0.000494</td>\n",
       "      <td>US</td>\n",
       "      <td>Google AdMob</td>\n",
       "    </tr>\n",
       "  </tbody>\n",
       "</table>\n",
       "</div>"
      ],
      "text/plain": [
       "    profile_id       event_datetime       city os_version ad_type   placement  \\\n",
       "0  JLjpGzDHBQm  2022-02-04 20:02:28    Norwalk         11  banner               \n",
       "1  JLjpGzDHBQm  2022-02-04 20:02:45    Norwalk         11  banner               \n",
       "2  JLkVacrzHY6  2022-02-05 17:53:05  Charlotte         11  banner               \n",
       "3  JMC6wG3cX0f  2022-02-06 17:09:01      Cocoa         10     int  next_level   \n",
       "4  JLzWWTJfi1b  2022-02-06 17:15:38        NaN         10  banner               \n",
       "5  JLzWWTJfi1b  2022-02-06 17:15:53        NaN         10  banner               \n",
       "6  JLzWWTJfi1b  2022-02-06 17:16:03        NaN         10  banner               \n",
       "7  JLzWWTJfi1b  2022-02-06 17:16:23        NaN         10  banner               \n",
       "8  JLzWWTJfi1b  2022-02-06 17:16:33        NaN         10  banner               \n",
       "9  JLzWWTJfi1b  2022-02-06 17:16:53        NaN         10  banner               \n",
       "\n",
       "   session_length   revenue   ads_ltv   ecpm_sma  normalized_ecpm_sma  \\\n",
       "0       705.88070  0.000510  0.487877   0.511508             0.511508   \n",
       "1       722.65120  0.000510  0.488387   0.511389             0.511389   \n",
       "2       431.81290  0.002386  0.678479   0.928597             0.928597   \n",
       "3       125.94960  0.013894  0.013894  13.782633            13.893784   \n",
       "4        12.71129  0.006828  0.060571   1.660282             1.660282   \n",
       "5        27.75300  0.000494  0.061065   1.543673             1.543673   \n",
       "6        37.62716  0.002386  0.063451   1.627922             1.627922   \n",
       "7        57.81027  0.000494  0.063945   1.514549             1.514549   \n",
       "8        67.62502  0.002386  0.066332   1.601711             1.601711   \n",
       "9        87.80360  0.000494  0.066826   1.490959             1.490959   \n",
       "\n",
       "      value ad_country_code       network_name  \n",
       "0  0.000510              US       Google AdMob  \n",
       "1  0.000510              US       Google AdMob  \n",
       "2  0.002386              US  APPLOVIN_EXCHANGE  \n",
       "3  0.013894              US           AppLovin  \n",
       "4  0.006828              US       Google AdMob  \n",
       "5  0.000494              US       Google AdMob  \n",
       "6  0.002386              US  APPLOVIN_EXCHANGE  \n",
       "7  0.000494              US       Google AdMob  \n",
       "8  0.002386              US  APPLOVIN_EXCHANGE  \n",
       "9  0.000494              US       Google AdMob  "
      ]
     },
     "execution_count": 44,
     "metadata": {},
     "output_type": "execute_result"
    }
   ],
   "source": [
    "final_data[:10]"
   ]
  },
  {
   "cell_type": "code",
   "execution_count": 78,
   "id": "8d6b9833",
   "metadata": {
    "ExecuteTime": {
     "end_time": "2022-06-19T16:27:04.405932Z",
     "start_time": "2022-06-19T16:27:04.272467Z"
    }
   },
   "outputs": [
    {
     "data": {
      "text/html": [
       "<div>\n",
       "<style scoped>\n",
       "    .dataframe tbody tr th:only-of-type {\n",
       "        vertical-align: middle;\n",
       "    }\n",
       "\n",
       "    .dataframe tbody tr th {\n",
       "        vertical-align: top;\n",
       "    }\n",
       "\n",
       "    .dataframe thead th {\n",
       "        text-align: right;\n",
       "    }\n",
       "</style>\n",
       "<table border=\"1\" class=\"dataframe\">\n",
       "  <thead>\n",
       "    <tr style=\"text-align: right;\">\n",
       "      <th></th>\n",
       "      <th>profile_id</th>\n",
       "      <th>ecpm_sma</th>\n",
       "    </tr>\n",
       "  </thead>\n",
       "  <tbody>\n",
       "    <tr>\n",
       "      <th>0</th>\n",
       "      <td>JL00qCZH1HV</td>\n",
       "      <td>5.379373</td>\n",
       "    </tr>\n",
       "    <tr>\n",
       "      <th>1</th>\n",
       "      <td>JL015rw9vmN</td>\n",
       "      <td>2.435747</td>\n",
       "    </tr>\n",
       "    <tr>\n",
       "      <th>2</th>\n",
       "      <td>JL01aCdFTJy</td>\n",
       "      <td>1.557256</td>\n",
       "    </tr>\n",
       "    <tr>\n",
       "      <th>3</th>\n",
       "      <td>JL04ODuw9UP</td>\n",
       "      <td>2.361296</td>\n",
       "    </tr>\n",
       "    <tr>\n",
       "      <th>4</th>\n",
       "      <td>JL06OWhBYxn</td>\n",
       "      <td>0.332892</td>\n",
       "    </tr>\n",
       "    <tr>\n",
       "      <th>5</th>\n",
       "      <td>JL06b4k4ygp</td>\n",
       "      <td>0.879389</td>\n",
       "    </tr>\n",
       "    <tr>\n",
       "      <th>6</th>\n",
       "      <td>JL06eD8uPpv</td>\n",
       "      <td>2.899562</td>\n",
       "    </tr>\n",
       "    <tr>\n",
       "      <th>7</th>\n",
       "      <td>JL09tSq5vCU</td>\n",
       "      <td>1.629271</td>\n",
       "    </tr>\n",
       "    <tr>\n",
       "      <th>8</th>\n",
       "      <td>JL0CA7Zu7Tp</td>\n",
       "      <td>0.996885</td>\n",
       "    </tr>\n",
       "    <tr>\n",
       "      <th>9</th>\n",
       "      <td>JL0DmG3DU2k</td>\n",
       "      <td>0.744364</td>\n",
       "    </tr>\n",
       "  </tbody>\n",
       "</table>\n",
       "</div>"
      ],
      "text/plain": [
       "    profile_id  ecpm_sma\n",
       "0  JL00qCZH1HV  5.379373\n",
       "1  JL015rw9vmN  2.435747\n",
       "2  JL01aCdFTJy  1.557256\n",
       "3  JL04ODuw9UP  2.361296\n",
       "4  JL06OWhBYxn  0.332892\n",
       "5  JL06b4k4ygp  0.879389\n",
       "6  JL06eD8uPpv  2.899562\n",
       "7  JL09tSq5vCU  1.629271\n",
       "8  JL0CA7Zu7Tp  0.996885\n",
       "9  JL0DmG3DU2k  0.744364"
      ]
     },
     "execution_count": 78,
     "metadata": {},
     "output_type": "execute_result"
    }
   ],
   "source": [
    "#1a. построить распределение средних eCPM-ов юзеров\n",
    "\n",
    "avg_ecpm_users = final_data.groupby(['profile_id'])['ecpm_sma'].mean().reset_index()\n",
    "avg_ecpm_users[:10]"
   ]
  },
  {
   "cell_type": "code",
   "execution_count": 80,
   "id": "77c3628a",
   "metadata": {
    "ExecuteTime": {
     "end_time": "2022-06-19T16:27:35.830162Z",
     "start_time": "2022-06-19T16:27:35.560674Z"
    }
   },
   "outputs": [
    {
     "data": {
      "text/plain": [
       "<matplotlib.legend.Legend at 0x7fe813d16d00>"
      ]
     },
     "execution_count": 80,
     "metadata": {},
     "output_type": "execute_result"
    },
    {
     "data": {
      "image/png": "[encoded data removed]",
      "text/plain": [
       "<Figure size 432x288 with 1 Axes>"
      ]
     },
     "metadata": {
      "needs_background": "light"
     },
     "output_type": "display_data"
    }
   ],
   "source": [
    "sns.histplot(data = avg_ecpm_users ,x = 'ecpm_sma',\\\n",
    "             color = 'navy', bins = 5, kde = True)\n",
    "\n",
    "plt.legend(labels=[\"ecpm_sma by users\"])"
   ]
  },
  {
   "cell_type": "code",
   "execution_count": 52,
   "id": "f00c1066",
   "metadata": {
    "ExecuteTime": {
     "end_time": "2022-06-19T16:06:53.048591Z",
     "start_time": "2022-06-19T16:06:52.854720Z"
    }
   },
   "outputs": [
    {
     "data": {
      "text/html": [
       "<div>\n",
       "<style scoped>\n",
       "    .dataframe tbody tr th:only-of-type {\n",
       "        vertical-align: middle;\n",
       "    }\n",
       "\n",
       "    .dataframe tbody tr th {\n",
       "        vertical-align: top;\n",
       "    }\n",
       "\n",
       "    .dataframe thead th {\n",
       "        text-align: right;\n",
       "    }\n",
       "</style>\n",
       "<table border=\"1\" class=\"dataframe\">\n",
       "  <thead>\n",
       "    <tr style=\"text-align: right;\">\n",
       "      <th></th>\n",
       "      <th>city</th>\n",
       "      <th>os_version</th>\n",
       "      <th>ecpm_sma</th>\n",
       "    </tr>\n",
       "  </thead>\n",
       "  <tbody>\n",
       "    <tr>\n",
       "      <th>0</th>\n",
       "      <td>Aberdeen</td>\n",
       "      <td>11</td>\n",
       "      <td>1.390733</td>\n",
       "    </tr>\n",
       "    <tr>\n",
       "      <th>1</th>\n",
       "      <td>Abilene</td>\n",
       "      <td>10</td>\n",
       "      <td>44.571796</td>\n",
       "    </tr>\n",
       "    <tr>\n",
       "      <th>2</th>\n",
       "      <td>Abilene</td>\n",
       "      <td>11</td>\n",
       "      <td>189.868790</td>\n",
       "    </tr>\n",
       "    <tr>\n",
       "      <th>3</th>\n",
       "      <td>Abilene</td>\n",
       "      <td>9</td>\n",
       "      <td>5.850772</td>\n",
       "    </tr>\n",
       "    <tr>\n",
       "      <th>4</th>\n",
       "      <td>Addison</td>\n",
       "      <td>12</td>\n",
       "      <td>0.489450</td>\n",
       "    </tr>\n",
       "    <tr>\n",
       "      <th>5</th>\n",
       "      <td>Afton</td>\n",
       "      <td>11</td>\n",
       "      <td>2.510671</td>\n",
       "    </tr>\n",
       "    <tr>\n",
       "      <th>6</th>\n",
       "      <td>Akron</td>\n",
       "      <td>10</td>\n",
       "      <td>199.292637</td>\n",
       "    </tr>\n",
       "    <tr>\n",
       "      <th>7</th>\n",
       "      <td>Akron</td>\n",
       "      <td>12</td>\n",
       "      <td>57.825024</td>\n",
       "    </tr>\n",
       "    <tr>\n",
       "      <th>8</th>\n",
       "      <td>Akron</td>\n",
       "      <td>9</td>\n",
       "      <td>6.546945</td>\n",
       "    </tr>\n",
       "    <tr>\n",
       "      <th>9</th>\n",
       "      <td>Alameda</td>\n",
       "      <td>12</td>\n",
       "      <td>1.744477</td>\n",
       "    </tr>\n",
       "  </tbody>\n",
       "</table>\n",
       "</div>"
      ],
      "text/plain": [
       "       city os_version    ecpm_sma\n",
       "0  Aberdeen         11    1.390733\n",
       "1   Abilene         10   44.571796\n",
       "2   Abilene         11  189.868790\n",
       "3   Abilene          9    5.850772\n",
       "4   Addison         12    0.489450\n",
       "5     Afton         11    2.510671\n",
       "6     Akron         10  199.292637\n",
       "7     Akron         12   57.825024\n",
       "8     Akron          9    6.546945\n",
       "9   Alameda         12    1.744477"
      ]
     },
     "execution_count": 52,
     "metadata": {},
     "output_type": "execute_result"
    }
   ],
   "source": [
    "#1b. отобразить средние eCPM-ы по городам, версиям ОС\n",
    "\n",
    "avg_ecpm_by_cities_os = final_data.groupby(['city', 'os_version'])['ecpm_sma'].mean().reset_index()\n",
    "avg_ecpm_by_cities_os[:10]"
   ]
  },
  {
   "cell_type": "code",
   "execution_count": 75,
   "id": "cdfa0a2c",
   "metadata": {
    "ExecuteTime": {
     "end_time": "2022-06-19T16:25:25.080949Z",
     "start_time": "2022-06-19T16:25:24.828705Z"
    },
    "scrolled": false
   },
   "outputs": [
    {
     "data": {
      "text/plain": [
       "<matplotlib.legend.Legend at 0x7fe819b520a0>"
      ]
     },
     "execution_count": 75,
     "metadata": {},
     "output_type": "execute_result"
    },
    {
     "data": {
      "image/png": "[encoded data removed]",
      "text/plain": [
       "<Figure size 432x288 with 1 Axes>"
      ]
     },
     "metadata": {
      "needs_background": "light"
     },
     "output_type": "display_data"
    }
   ],
   "source": [
    "sns.histplot(data = avg_ecpm_by_cities_os ,x = 'ecpm_sma',\\\n",
    "             color = 'navy', bins = 10, kde = True)\n",
    "\n",
    "plt.legend(labels=[\"ecpm_sma by city\"])"
   ]
  },
  {
   "cell_type": "code",
   "execution_count": 81,
   "id": "0e864b84",
   "metadata": {
    "ExecuteTime": {
     "end_time": "2022-06-19T16:29:17.648210Z",
     "start_time": "2022-06-19T16:29:17.428494Z"
    }
   },
   "outputs": [
    {
     "data": {
      "text/html": [
       "<div>\n",
       "<style scoped>\n",
       "    .dataframe tbody tr th:only-of-type {\n",
       "        vertical-align: middle;\n",
       "    }\n",
       "\n",
       "    .dataframe tbody tr th {\n",
       "        vertical-align: top;\n",
       "    }\n",
       "\n",
       "    .dataframe thead th {\n",
       "        text-align: right;\n",
       "    }\n",
       "</style>\n",
       "<table border=\"1\" class=\"dataframe\">\n",
       "  <thead>\n",
       "    <tr style=\"text-align: right;\">\n",
       "      <th></th>\n",
       "      <th>city</th>\n",
       "      <th>os_version</th>\n",
       "      <th>revenue</th>\n",
       "    </tr>\n",
       "  </thead>\n",
       "  <tbody>\n",
       "    <tr>\n",
       "      <th>0</th>\n",
       "      <td>Aberdeen</td>\n",
       "      <td>11</td>\n",
       "      <td>0.133882</td>\n",
       "    </tr>\n",
       "    <tr>\n",
       "      <th>1</th>\n",
       "      <td>Abilene</td>\n",
       "      <td>10</td>\n",
       "      <td>0.089862</td>\n",
       "    </tr>\n",
       "    <tr>\n",
       "      <th>2</th>\n",
       "      <td>Abilene</td>\n",
       "      <td>11</td>\n",
       "      <td>0.191400</td>\n",
       "    </tr>\n",
       "    <tr>\n",
       "      <th>3</th>\n",
       "      <td>Abilene</td>\n",
       "      <td>9</td>\n",
       "      <td>0.271433</td>\n",
       "    </tr>\n",
       "    <tr>\n",
       "      <th>4</th>\n",
       "      <td>Addison</td>\n",
       "      <td>12</td>\n",
       "      <td>0.000142</td>\n",
       "    </tr>\n",
       "    <tr>\n",
       "      <th>5</th>\n",
       "      <td>Afton</td>\n",
       "      <td>11</td>\n",
       "      <td>0.837622</td>\n",
       "    </tr>\n",
       "    <tr>\n",
       "      <th>6</th>\n",
       "      <td>Akron</td>\n",
       "      <td>10</td>\n",
       "      <td>0.806200</td>\n",
       "    </tr>\n",
       "    <tr>\n",
       "      <th>7</th>\n",
       "      <td>Akron</td>\n",
       "      <td>12</td>\n",
       "      <td>0.116960</td>\n",
       "    </tr>\n",
       "    <tr>\n",
       "      <th>8</th>\n",
       "      <td>Akron</td>\n",
       "      <td>9</td>\n",
       "      <td>2.545409</td>\n",
       "    </tr>\n",
       "    <tr>\n",
       "      <th>9</th>\n",
       "      <td>Alameda</td>\n",
       "      <td>12</td>\n",
       "      <td>0.211386</td>\n",
       "    </tr>\n",
       "  </tbody>\n",
       "</table>\n",
       "</div>"
      ],
      "text/plain": [
       "       city os_version   revenue\n",
       "0  Aberdeen         11  0.133882\n",
       "1   Abilene         10  0.089862\n",
       "2   Abilene         11  0.191400\n",
       "3   Abilene          9  0.271433\n",
       "4   Addison         12  0.000142\n",
       "5     Afton         11  0.837622\n",
       "6     Akron         10  0.806200\n",
       "7     Akron         12  0.116960\n",
       "8     Akron          9  2.545409\n",
       "9   Alameda         12  0.211386"
      ]
     },
     "execution_count": 81,
     "metadata": {},
     "output_type": "execute_result"
    }
   ],
   "source": [
    "#1c. отобразить суммарные доходы по городам, версиям ОС\n",
    "\n",
    "avg_revenue_by_cities_os = final_data.groupby(['city', 'os_version'])['revenue'].sum().reset_index()\n",
    "avg_revenue_by_cities_os[:10]"
   ]
  },
  {
   "cell_type": "code",
   "execution_count": 85,
   "id": "9cc069b6",
   "metadata": {
    "ExecuteTime": {
     "end_time": "2022-06-19T16:30:20.144942Z",
     "start_time": "2022-06-19T16:30:19.075649Z"
    }
   },
   "outputs": [
    {
     "data": {
      "text/plain": [
       "<matplotlib.legend.Legend at 0x7fe7f0354d30>"
      ]
     },
     "execution_count": 85,
     "metadata": {},
     "output_type": "execute_result"
    },
    {
     "data": {
      "image/png": "[encoded data removed]",
      "text/plain": [
       "<Figure size 432x288 with 1 Axes>"
      ]
     },
     "metadata": {
      "needs_background": "light"
     },
     "output_type": "display_data"
    }
   ],
   "source": [
    "sns.histplot(data = avg_revenue_by_cities_os ,x = 'revenue',\\\n",
    "             color = 'navy', bins = 15, kde = True)\n",
    "\n",
    "plt.legend(labels=[\"revenue by city\"])"
   ]
  },
  {
   "cell_type": "code",
   "execution_count": 87,
   "id": "b541524f",
   "metadata": {
    "ExecuteTime": {
     "end_time": "2022-06-19T16:34:11.083411Z",
     "start_time": "2022-06-19T16:34:11.055796Z"
    }
   },
   "outputs": [
    {
     "data": {
      "text/html": [
       "<div>\n",
       "<style scoped>\n",
       "    .dataframe tbody tr th:only-of-type {\n",
       "        vertical-align: middle;\n",
       "    }\n",
       "\n",
       "    .dataframe tbody tr th {\n",
       "        vertical-align: top;\n",
       "    }\n",
       "\n",
       "    .dataframe thead th {\n",
       "        text-align: right;\n",
       "    }\n",
       "</style>\n",
       "<table border=\"1\" class=\"dataframe\">\n",
       "  <thead>\n",
       "    <tr style=\"text-align: right;\">\n",
       "      <th></th>\n",
       "      <th>revenue</th>\n",
       "    </tr>\n",
       "  </thead>\n",
       "  <tbody>\n",
       "    <tr>\n",
       "      <th>count</th>\n",
       "      <td>1566.000000</td>\n",
       "    </tr>\n",
       "    <tr>\n",
       "      <th>mean</th>\n",
       "      <td>0.970596</td>\n",
       "    </tr>\n",
       "    <tr>\n",
       "      <th>std</th>\n",
       "      <td>2.146506</td>\n",
       "    </tr>\n",
       "    <tr>\n",
       "      <th>min</th>\n",
       "      <td>0.000033</td>\n",
       "    </tr>\n",
       "    <tr>\n",
       "      <th>25%</th>\n",
       "      <td>0.073077</td>\n",
       "    </tr>\n",
       "    <tr>\n",
       "      <th>50%</th>\n",
       "      <td>0.273309</td>\n",
       "    </tr>\n",
       "    <tr>\n",
       "      <th>75%</th>\n",
       "      <td>0.908661</td>\n",
       "    </tr>\n",
       "    <tr>\n",
       "      <th>max</th>\n",
       "      <td>30.871253</td>\n",
       "    </tr>\n",
       "  </tbody>\n",
       "</table>\n",
       "</div>"
      ],
      "text/plain": [
       "           revenue\n",
       "count  1566.000000\n",
       "mean      0.970596\n",
       "std       2.146506\n",
       "min       0.000033\n",
       "25%       0.073077\n",
       "50%       0.273309\n",
       "75%       0.908661\n",
       "max      30.871253"
      ]
     },
     "execution_count": 87,
     "metadata": {},
     "output_type": "execute_result"
    }
   ],
   "source": [
    "avg_revenue_by_cities_os.describe()"
   ]
  },
  {
   "cell_type": "code",
   "execution_count": 95,
   "id": "fd3134eb",
   "metadata": {
    "ExecuteTime": {
     "end_time": "2022-06-19T16:57:21.433930Z",
     "start_time": "2022-06-19T16:57:20.955574Z"
    }
   },
   "outputs": [
    {
     "data": {
      "text/html": [
       "<div>\n",
       "<style scoped>\n",
       "    .dataframe tbody tr th:only-of-type {\n",
       "        vertical-align: middle;\n",
       "    }\n",
       "\n",
       "    .dataframe tbody tr th {\n",
       "        vertical-align: top;\n",
       "    }\n",
       "\n",
       "    .dataframe thead th {\n",
       "        text-align: right;\n",
       "    }\n",
       "</style>\n",
       "<table border=\"1\" class=\"dataframe\">\n",
       "  <thead>\n",
       "    <tr style=\"text-align: right;\">\n",
       "      <th></th>\n",
       "      <th>session_length</th>\n",
       "      <th>revenue</th>\n",
       "      <th>ads_ltv</th>\n",
       "      <th>ecpm_sma</th>\n",
       "      <th>normalized_ecpm_sma</th>\n",
       "      <th>value</th>\n",
       "    </tr>\n",
       "  </thead>\n",
       "  <tbody>\n",
       "    <tr>\n",
       "      <th>count</th>\n",
       "      <td>860079.000000</td>\n",
       "      <td>860079.000000</td>\n",
       "      <td>860079.000000</td>\n",
       "      <td>860079.000000</td>\n",
       "      <td>860079.000000</td>\n",
       "      <td>860079.000000</td>\n",
       "    </tr>\n",
       "    <tr>\n",
       "      <th>mean</th>\n",
       "      <td>5730.505424</td>\n",
       "      <td>0.002780</td>\n",
       "      <td>1.417849</td>\n",
       "      <td>3.147110</td>\n",
       "      <td>3.227661</td>\n",
       "      <td>0.002780</td>\n",
       "    </tr>\n",
       "    <tr>\n",
       "      <th>std</th>\n",
       "      <td>15342.189669</td>\n",
       "      <td>0.015129</td>\n",
       "      <td>2.119035</td>\n",
       "      <td>15.973978</td>\n",
       "      <td>16.433888</td>\n",
       "      <td>0.015129</td>\n",
       "    </tr>\n",
       "    <tr>\n",
       "      <th>min</th>\n",
       "      <td>2.208125</td>\n",
       "      <td>0.000000</td>\n",
       "      <td>0.000026</td>\n",
       "      <td>0.001014</td>\n",
       "      <td>0.001014</td>\n",
       "      <td>0.000000</td>\n",
       "    </tr>\n",
       "    <tr>\n",
       "      <th>25%</th>\n",
       "      <td>512.645300</td>\n",
       "      <td>0.000046</td>\n",
       "      <td>0.268843</td>\n",
       "      <td>0.139942</td>\n",
       "      <td>0.139942</td>\n",
       "      <td>0.000046</td>\n",
       "    </tr>\n",
       "    <tr>\n",
       "      <th>50%</th>\n",
       "      <td>1398.315000</td>\n",
       "      <td>0.000494</td>\n",
       "      <td>0.682342</td>\n",
       "      <td>0.480991</td>\n",
       "      <td>0.480991</td>\n",
       "      <td>0.000494</td>\n",
       "    </tr>\n",
       "    <tr>\n",
       "      <th>75%</th>\n",
       "      <td>4095.932000</td>\n",
       "      <td>0.000533</td>\n",
       "      <td>1.599739</td>\n",
       "      <td>0.772006</td>\n",
       "      <td>0.772006</td>\n",
       "      <td>0.000533</td>\n",
       "    </tr>\n",
       "    <tr>\n",
       "      <th>max</th>\n",
       "      <td>394117.600000</td>\n",
       "      <td>0.937196</td>\n",
       "      <td>26.699762</td>\n",
       "      <td>908.876160</td>\n",
       "      <td>917.695618</td>\n",
       "      <td>0.937196</td>\n",
       "    </tr>\n",
       "  </tbody>\n",
       "</table>\n",
       "</div>"
      ],
      "text/plain": [
       "       session_length        revenue        ads_ltv       ecpm_sma  \\\n",
       "count   860079.000000  860079.000000  860079.000000  860079.000000   \n",
       "mean      5730.505424       0.002780       1.417849       3.147110   \n",
       "std      15342.189669       0.015129       2.119035      15.973978   \n",
       "min          2.208125       0.000000       0.000026       0.001014   \n",
       "25%        512.645300       0.000046       0.268843       0.139942   \n",
       "50%       1398.315000       0.000494       0.682342       0.480991   \n",
       "75%       4095.932000       0.000533       1.599739       0.772006   \n",
       "max     394117.600000       0.937196      26.699762     908.876160   \n",
       "\n",
       "       normalized_ecpm_sma          value  \n",
       "count        860079.000000  860079.000000  \n",
       "mean              3.227661       0.002780  \n",
       "std              16.433888       0.015129  \n",
       "min               0.001014       0.000000  \n",
       "25%               0.139942       0.000046  \n",
       "50%               0.480991       0.000494  \n",
       "75%               0.772006       0.000533  \n",
       "max             917.695618       0.937196  "
      ]
     },
     "execution_count": 95,
     "metadata": {},
     "output_type": "execute_result"
    }
   ],
   "source": [
    "final_data.describe()"
   ]
  },
  {
   "cell_type": "markdown",
   "id": "93808f1d",
   "metadata": {},
   "source": [
    "T-критерий рассчитывается для среднего значения одного набора значений. Нулевая гипотеза состоит в том, что ожидаемое среднее значение выборки независимых наблюдений равно указанному среднему значению генеральной совокупности, popmean."
   ]
  },
  {
   "cell_type": "code",
   "execution_count": 102,
   "id": "8d51f797",
   "metadata": {
    "ExecuteTime": {
     "end_time": "2022-06-19T17:02:43.193694Z",
     "start_time": "2022-06-19T17:02:43.180802Z"
    }
   },
   "outputs": [
    {
     "name": "stdout",
     "output_type": "stream",
     "text": [
      "-0.1677647850073831 0.8667683667274636\n"
     ]
    }
   ],
   "source": [
    "# perform one sample t-test\n",
    "t_statistic, p_value = stats.ttest_1samp(a=final_data['ecpm_sma'], popmean=3.15)\n",
    "print(t_statistic , p_value)"
   ]
  },
  {
   "cell_type": "markdown",
   "id": "dd453cbc",
   "metadata": {},
   "source": [
    "Поскольку p_value для данной проблемы больше 0,05, что является значением альфа, мы принимаем нулевую гипотезу, а альтернативная гипотеза отклоняется."
   ]
  },
  {
   "cell_type": "code",
   "execution_count": null,
   "id": "73b00213",
   "metadata": {},
   "outputs": [],
   "source": []
  },
  {
   "cell_type": "code",
   "execution_count": null,
   "id": "5f63650c",
   "metadata": {},
   "outputs": [],
   "source": []
  },
  {
   "cell_type": "code",
   "execution_count": null,
   "id": "1c16bbb0",
   "metadata": {},
   "outputs": [],
   "source": []
  },
  {
   "cell_type": "code",
   "execution_count": null,
   "id": "4af0ee6a",
   "metadata": {},
   "outputs": [],
   "source": []
  },
  {
   "cell_type": "code",
   "execution_count": null,
   "id": "a742fd4a",
   "metadata": {},
   "outputs": [],
   "source": []
  },
  {
   "cell_type": "code",
   "execution_count": null,
   "id": "4092cb98",
   "metadata": {},
   "outputs": [],
   "source": []
  }
 ],
 "metadata": {
  "kernelspec": {
   "display_name": "Python 3 (ipykernel)",
   "language": "python",
   "name": "python3"
  },
  "language_info": {
   "codemirror_mode": {
    "name": "ipython",
    "version": 3
   },
   "file_extension": ".py",
   "mimetype": "text/x-python",
   "name": "python",
   "nbconvert_exporter": "python",
   "pygments_lexer": "ipython3",
   "version": "3.9.7"
  }
 },
 "nbformat": 4,
 "nbformat_minor": 5
}
