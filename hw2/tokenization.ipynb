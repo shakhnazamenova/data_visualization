{
 "cells": [
  {
   "cell_type": "code",
   "execution_count": 2,
   "id": "59260837",
   "metadata": {
    "ExecuteTime": {
     "end_time": "2022-02-20T08:31:05.621634Z",
     "start_time": "2022-02-20T08:31:05.612222Z"
    }
   },
   "outputs": [],
   "source": [
    "import os\n",
    "import json\n",
    "import re\n",
    "from collections import defaultdict\n",
    "import collections\n",
    "DATA = \"/Users/a121/Downloads/data_2\"\n",
    "punkt = re.compile(r\"[:.,;!?-]+\")"
   ]
  },
  {
   "cell_type": "code",
   "execution_count": 1,
   "id": "b5a9fba8",
   "metadata": {
    "ExecuteTime": {
     "end_time": "2022-02-20T08:30:54.296722Z",
     "start_time": "2022-02-20T08:30:54.278555Z"
    }
   },
   "outputs": [
    {
     "data": {
      "text/plain": [
       "'/Users/a121/Downloads'"
      ]
     },
     "execution_count": 1,
     "metadata": {},
     "output_type": "execute_result"
    }
   ],
   "source": [
    "pwd"
   ]
  },
  {
   "cell_type": "code",
   "execution_count": 4,
   "id": "91947480",
   "metadata": {
    "ExecuteTime": {
     "end_time": "2022-02-20T08:31:22.656701Z",
     "start_time": "2022-02-20T08:31:22.494697Z"
    }
   },
   "outputs": [
    {
     "name": "stdout",
     "output_type": "stream",
     "text": [
      "4317\n"
     ]
    }
   ],
   "source": [
    "paths = None\n",
    "papers = []\n",
    "for root,dirs,files in os.walk(\"/Users/a121/Downloads/data_2\"):\n",
    "    paths = [os.path.join(DATA, flname) for flname in files]\n",
    "\n",
    "for path in paths:\n",
    "    with open(path,\"r\", encoding=\"utf-8\") as fh:\n",
    "        papers.extend(json.load(fh))\n",
    "print(len(papers))"
   ]
  },
  {
   "cell_type": "code",
   "execution_count": 5,
   "id": "535d7133",
   "metadata": {
    "ExecuteTime": {
     "end_time": "2022-02-20T08:31:24.804340Z",
     "start_time": "2022-02-20T08:31:24.793189Z"
    }
   },
   "outputs": [
    {
     "name": "stdout",
     "output_type": "stream",
     "text": [
      "92 2164\n"
     ]
    }
   ],
   "source": [
    "abstracts = [paper[\"abstract\"] for paper in papers]\n",
    "lengs = list(set([len(abs1) for abs1 in abstracts]))\n",
    "sorted(lengs)\n",
    "print(lengs[0],lengs[-1])\n"
   ]
  },
  {
   "cell_type": "code",
   "execution_count": 6,
   "id": "b9126d29",
   "metadata": {
    "ExecuteTime": {
     "end_time": "2022-02-20T08:31:27.117177Z",
     "start_time": "2022-02-20T08:31:26.812009Z"
    }
   },
   "outputs": [],
   "source": [
    "abstracts_tok = [re.sub(punkt,\"\",abs1.replace(\"\\n\",\" \")).lower().split(\" \") for abs1 in abstracts]\n",
    "    "
   ]
  },
  {
   "cell_type": "code",
   "execution_count": 7,
   "id": "b2845fa5",
   "metadata": {
    "ExecuteTime": {
     "end_time": "2022-02-20T08:31:29.612726Z",
     "start_time": "2022-02-20T08:31:29.407548Z"
    }
   },
   "outputs": [],
   "source": [
    "cnt = defaultdict(int)\n",
    "for abs1 in abstracts_tok:\n",
    "    for tok in abs1:\n",
    "        cnt[tok]+=1"
   ]
  },
  {
   "cell_type": "code",
   "execution_count": 8,
   "id": "5e09daf3",
   "metadata": {
    "ExecuteTime": {
     "end_time": "2022-02-20T08:31:29.854824Z",
     "start_time": "2022-02-20T08:31:29.846443Z"
    }
   },
   "outputs": [
    {
     "name": "stdout",
     "output_type": "stream",
     "text": [
      "39431\n"
     ]
    }
   ],
   "source": [
    "print(len(cnt))"
   ]
  },
  {
   "cell_type": "code",
   "execution_count": 9,
   "id": "ce206a70",
   "metadata": {
    "ExecuteTime": {
     "end_time": "2022-02-20T08:31:30.360408Z",
     "start_time": "2022-02-20T08:31:30.343444Z"
    }
   },
   "outputs": [],
   "source": [
    "res = dict()\n",
    "for key,val in cnt.items():\n",
    "    if val<100 and val>50 and key.isalpha() and len(key)>3:\n",
    "        res[len(key)]=val\n"
   ]
  },
  {
   "cell_type": "code",
   "execution_count": 10,
   "id": "9bd18564",
   "metadata": {
    "ExecuteTime": {
     "end_time": "2022-02-20T08:31:32.044212Z",
     "start_time": "2022-02-20T08:31:32.036645Z"
    }
   },
   "outputs": [],
   "source": [
    "with open(\"forviz.json\",\"w\") as fh:\n",
    "    fh.write(json.dumps(list(res.items())))"
   ]
  },
  {
   "cell_type": "code",
   "execution_count": null,
   "id": "345bcb56",
   "metadata": {},
   "outputs": [],
   "source": []
  }
 ],
 "metadata": {
  "kernelspec": {
   "display_name": "Python 3 (ipykernel)",
   "language": "python",
   "name": "python3"
  },
  "language_info": {
   "codemirror_mode": {
    "name": "ipython",
    "version": 3
   },
   "file_extension": ".py",
   "mimetype": "text/x-python",
   "name": "python",
   "nbconvert_exporter": "python",
   "pygments_lexer": "ipython3",
   "version": "3.9.7"
  }
 },
 "nbformat": 4,
 "nbformat_minor": 5
}
